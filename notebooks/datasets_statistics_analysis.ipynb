{
 "cells": [
  {
   "cell_type": "code",
   "execution_count": 2,
   "metadata": {},
   "outputs": [
    {
     "name": "stderr",
     "output_type": "stream",
     "text": [
      "/home/nicolas/.conda/envs/ontocomment/lib/python3.11/site-packages/tqdm/auto.py:21: TqdmWarning: IProgress not found. Please update jupyter and ipywidgets. See https://ipywidgets.readthedocs.io/en/stable/user_install.html\n",
      "  from .autonotebook import tqdm as notebook_tqdm\n"
     ]
    }
   ],
   "source": [
    "from datasets import Dataset\n",
    "from glob import glob\n",
    "import pandas as pd"
   ]
  },
  {
   "cell_type": "code",
   "execution_count": 3,
   "metadata": {},
   "outputs": [],
   "source": [
    "dataset_df = pd.DataFrame() \n",
    "\n",
    "for x in glob(\"../datasets/*\"):\n",
    "  df = Dataset.load_from_disk(x).to_pandas()\n",
    "  df[\"source\"] = x.split(\"/\")[-1].split(\"_\")[0]\n",
    "  dataset_df = pd.concat([dataset_df,  df])\n",
    "\n",
    "dataset_df[\"comment_len\"] = dataset_df.target_description.apply(lambda td: len(td[\"comment\"].split()))\n",
    "dataset_df[\"axioms\"] = dataset_df.target_description.apply(lambda td: sum(len(f) for f in td[\"facts\"].values()))"
   ]
  },
  {
   "cell_type": "code",
   "execution_count": 4,
   "metadata": {},
   "outputs": [
    {
     "data": {
      "text/plain": [
       "source\n",
       "arco         34.64\n",
       "dbpedia      17.59\n",
       "dul          55.16\n",
       "foodon       35.03\n",
       "frbr         10.17\n",
       "go           22.67\n",
       "helis         9.50\n",
       "schemaorg    16.31\n",
       "Name: comment_len, dtype: float64"
      ]
     },
     "execution_count": 4,
     "metadata": {},
     "output_type": "execute_result"
    }
   ],
   "source": [
    "dataset_df.groupby(\"source\").comment_len.mean()"
   ]
  },
  {
   "cell_type": "code",
   "execution_count": 5,
   "metadata": {},
   "outputs": [
    {
     "data": {
      "text/plain": [
       "source\n",
       "arco         3.88\n",
       "dbpedia      3.26\n",
       "dul          5.42\n",
       "foodon       1.77\n",
       "frbr         7.97\n",
       "go           0.62\n",
       "helis        1.44\n",
       "schemaorg    1.18\n",
       "Name: axioms, dtype: float64"
      ]
     },
     "execution_count": 5,
     "metadata": {},
     "output_type": "execute_result"
    }
   ],
   "source": [
    "dataset_df.groupby(\"source\").axioms.mean()"
   ]
  },
  {
   "cell_type": "code",
   "execution_count": 10,
   "metadata": {},
   "outputs": [
    {
     "name": "stdout",
     "output_type": "stream",
     "text": [
      "\\begin{tabular}{llll}\n",
      "\\toprule\n",
      " & desc & comment_len & axioms \\\\\n",
      "source &  &  &  \\\\\n",
      "\\midrule\n",
      "arco &  & $34.64 \\pm 44.43$ & $3.88 \\pm 2.68$ \\\\\n",
      "dbpedia &  & $17.59 \\pm 15.65$ & $3.26 \\pm 8.76$ \\\\\n",
      "dul &  & $55.16 \\pm 86.71$ & $5.42 \\pm 7.09$ \\\\\n",
      "foodon &  & $35.03 \\pm 18.99$ & $1.77 \\pm 0.93$ \\\\\n",
      "frbr &  & $10.17 \\pm 0.38$ & $7.97 \\pm 5.17$ \\\\\n",
      "go &  & $22.67 \\pm 28.49$ & $0.62 \\pm 1.16$ \\\\\n",
      "helis &  & $9.50 \\pm 4.24$ & $1.44 \\pm 0.99$ \\\\\n",
      "schemaorg &  & $16.31 \\pm 16.27$ & $1.18 \\pm 0.41$ \\\\\n",
      "\\bottomrule\n",
      "\\end{tabular}\n",
      "\n"
     ]
    }
   ],
   "source": [
    "print(dataset_df.assign(desc=\"\").groupby(\"source\").agg({\n",
    "  \"desc\": lambda row: \"\",\n",
    "  \"comment_len\": lambda row: f\"${row.mean():2.2f} \\pm {row.std():2.2f}$\",\n",
    "  \"axioms\": lambda row: f\"${row.mean():2.2f} \\pm {row.std():2.2f}$\"\n",
    "}).to_latex())"
   ]
  },
  {
   "cell_type": "code",
   "execution_count": 19,
   "metadata": {},
   "outputs": [
    {
     "name": "stdout",
     "output_type": "stream",
     "text": [
      "http://www.ontologydesignpatterns.org/ont/dul/DUL.owl#Role\n",
      "disjoint union of \n",
      "disjoint with Role\n",
      "equivalent to \n",
      "is domain of has task a Task, is role defined in a Description, is role of a Object\n",
      "is range of Description defines role, Object has role, Task is task of\n",
      "subclass of classifies only Object, Concept, has part only Role\n",
      "superclass of \n"
     ]
    }
   ],
   "source": [
    "sample = dataset_df[dataset_df.source == \"dul\"].iloc[2]\n",
    "\n",
    "print(sample.target)\n",
    "for k, v in sample.target_description[\"facts\"].items():\n",
    "  print(k, \", \".join(v))\n"
   ]
  },
  {
   "cell_type": "code",
   "execution_count": 13,
   "metadata": {},
   "outputs": [
    {
     "name": "stdout",
     "output_type": "stream",
     "text": [
      "http://www.ontologydesignpatterns.org/ont/dul/DUL.owl#Role\n",
      "disjoint union of \n",
      "disjoint with Role\n",
      "equivalent to \n",
      "is domain of has task a Task, is role defined in a Description, is role of a Object\n",
      "is range of Description defines role, Object has role, Task is task of\n",
      "subclass of classifies only Object, Concept, has part only Role\n",
      "superclass of \n"
     ]
    }
   ],
   "source": [
    "sample = dataset_df[dataset_df.source == \"foodon\"].iloc[14]\n",
    "\n",
    "print(sample.target)\n",
    "for k, v in sample.target_description[\"facts\"].items():\n",
    "  print(k, \", \".join(v))\n"
   ]
  }
 ],
 "metadata": {
  "kernelspec": {
   "display_name": "ontocomment",
   "language": "python",
   "name": "python3"
  },
  "language_info": {
   "codemirror_mode": {
    "name": "ipython",
    "version": 3
   },
   "file_extension": ".py",
   "mimetype": "text/x-python",
   "name": "python",
   "nbconvert_exporter": "python",
   "pygments_lexer": "ipython3",
   "version": "3.11.3"
  },
  "orig_nbformat": 4
 },
 "nbformat": 4,
 "nbformat_minor": 2
}
